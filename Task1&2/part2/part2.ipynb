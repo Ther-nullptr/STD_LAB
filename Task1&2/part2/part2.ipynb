{
 "cells": [
  {
   "cell_type": "markdown",
   "id": "c17c4764",
   "metadata": {},
   "source": [
    "# 作业说明"
   ]
  },
  {
   "cell_type": "markdown",
   "id": "0c409f49",
   "metadata": {},
   "source": [
    "请填写代码以完成作业，并将整个包以 zip 文件的形式提交到网络学堂"
   ]
  },
  {
   "cell_type": "markdown",
   "id": "13711bdb",
   "metadata": {},
   "source": [
    "# 第一步"
   ]
  },
  {
   "cell_type": "markdown",
   "id": "9a4043e7",
   "metadata": {},
   "source": [
    "运行以下代码以导入你需要的模块，如需要你也可以修改此代码（例如，导入更多模块）"
   ]
  },
  {
   "cell_type": "code",
   "execution_count": 22,
   "id": "70432062",
   "metadata": {},
   "outputs": [],
   "source": [
    "import numpy as np\n",
    "import wave\n",
    "import math\n",
    "import matplotlib.pyplot as plt"
   ]
  },
  {
   "cell_type": "code",
   "execution_count": 23,
   "id": "f73c4dc4",
   "metadata": {},
   "outputs": [],
   "source": [
    "def nextpow2(n):\n",
    "    '''\n",
    "    求最接近数据长度的2的整数次方\n",
    "    An integer equal to 2 that is closest to the length of the data\n",
    "    \n",
    "    Eg: \n",
    "    nextpow2(2) = 1\n",
    "    nextpow2(2**10+1) = 11\n",
    "    nextpow2(2**20+1) = 21\n",
    "    '''\n",
    "    return np.ceil(np.log2(np.abs(n))).astype('long')\n",
    "\n",
    "def berouti(SNR):\n",
    "    if -5.0 <= SNR <= 20.0:\n",
    "        a = 4 - SNR * 3 / 20\n",
    "    else:\n",
    "        if SNR < -5.0:\n",
    "            a = 5\n",
    "        if SNR > 20:\n",
    "            a = 1\n",
    "    return a\n",
    "\n",
    "def berouti1(SNR):\n",
    "    if -5.0 <= SNR <= 20.0:\n",
    "        a = 3 - SNR * 2 / 20\n",
    "    else:\n",
    "        if SNR < -5.0:\n",
    "            a = 4\n",
    "        if SNR > 20:\n",
    "            a = 1\n",
    "    return a\n",
    "\n",
    "def find_index(x_list):\n",
    "    index_list = []\n",
    "    for i in range(len(x_list)):\n",
    "        if x_list[i] < 0:\n",
    "            index_list.append(i)\n",
    "    return index_list\n"
   ]
  },
  {
   "cell_type": "markdown",
   "id": "d47c5828",
   "metadata": {},
   "source": [
    "# 问题1：音频去噪"
   ]
  },
  {
   "cell_type": "markdown",
   "id": "a1fb5ab5",
   "metadata": {},
   "source": [
    "对于有噪声的音频，我们希望使用一些方法将噪声水平尽可能减小\n",
    "\n",
    "这里我们采用谱减法去噪\n",
    "\n",
    "首先我们初始化一些参数与数据"
   ]
  },
  {
   "cell_type": "code",
   "execution_count": 24,
   "id": "b06930f5",
   "metadata": {},
   "outputs": [
    {
     "name": "stderr",
     "output_type": "stream",
     "text": [
      "<ipython-input-24-6949702297e5>:8: DeprecationWarning: The binary mode of fromstring is deprecated, as it behaves surprisingly on unicode inputs. Use frombuffer instead\n",
      "  x = np.fromstring(str_data, dtype=np.short)\n"
     ]
    }
   ],
   "source": [
    "f = wave.open(\"input_file.wav\")\n",
    "params = f.getparams()\n",
    "nchannels, sampwidth, framerate, nframes = params[:4]\n",
    "fs = framerate\n",
    "\n",
    "str_data = f.readframes(nframes)\n",
    "f.close()\n",
    "x = np.fromstring(str_data, dtype=np.short)\n",
    "\n",
    "len_ = 20 * fs // 1000\n",
    "PERC = 50\n",
    "len1 = len_ * PERC // 100\n",
    "len2 = len_ - len1\n",
    "\n",
    "Thres = 3\n",
    "Expnt = 2.0\n",
    "beta = 0.002\n",
    "G = 0.9"
   ]
  },
  {
   "cell_type": "markdown",
   "id": "d47c5828",
   "metadata": {},
   "source": [
    "## 1.1 噪声估计"
   ]
  },
  {
   "cell_type": "markdown",
   "id": "04e85da7",
   "metadata": {},
   "source": [
    "要想去除噪声，首先我们需要从信号中估计噪声\n",
    "\n",
    "这里假定音频数据的前5帧是静音（无信息音频）即只含有噪声"
   ]
  },
  {
   "cell_type": "code",
   "execution_count": 25,
   "id": "90ccc227",
   "metadata": {},
   "outputs": [],
   "source": [
    "# 初始化汉明窗\n",
    "win = np.hamming(len_)\n",
    "winGain = len2 / sum(win)\n",
    "\n",
    "# 噪声幅度计算\n",
    "nFFT = 2 * 2 ** (nextpow2(len_))\n",
    "noise_mean = np.zeros(nFFT)\n",
    "\n",
    "j = 0\n",
    "for k in range(1, 6):\n",
    "    ####################\n",
    "    # your code\n",
    "    ####################\n",
    "    j = j + len_\n",
    "    continue\n",
    "\n",
    "noise_mu = noise_mean / 5"
   ]
  },
  {
   "cell_type": "code",
   "execution_count": 26,
   "id": "d5986987",
   "metadata": {},
   "outputs": [],
   "source": [
    "# 分配内存并初始化各种变量\n",
    "k = 1\n",
    "img = 1j\n",
    "x_old = np.zeros(len1)\n",
    "Nframes = len(x) // len2 - 1\n",
    "xfinal = np.zeros(Nframes * len2)"
   ]
  },
  {
   "cell_type": "markdown",
   "id": "3cf80169",
   "metadata": {},
   "source": [
    "## 1.2 噪声去除"
   ]
  },
  {
   "cell_type": "markdown",
   "id": "c6ae70a9",
   "metadata": {},
   "source": [
    "现在我们将采用谱减法去除噪声\n",
    "\n",
    "你需要完成去噪过程中的一些重要操作\n",
    "\n",
    "你可以参考下图来回忆过程\n",
    "\n",
    "<img src=\"principle.png\" align='middle'>"
   ]
  },
  {
   "cell_type": "code",
   "execution_count": 27,
   "id": "578a7e67",
   "metadata": {},
   "outputs": [],
   "source": [
    "for n in range(0, Nframes):\n",
    "    # 窗口\n",
    "    insign = win * x[k-1:k + len_ - 1]\n",
    "    # FFT\n",
    "    spec = np.fft.fft(insign, nFFT)\n",
    "    # 计算幅值\n",
    "    sig = abs(spec)\n",
    "    # 存储相位信息\n",
    "    theta = np.angle(spec)\n",
    "\n",
    "    # 信噪比计算\n",
    "    SNRseg = 0\n",
    "    ####################\n",
    "    # your code\n",
    "    ####################\n",
    "    \n",
    "\n",
    "    if Expnt == 1.0:\n",
    "        alpha = berouti1(SNRseg)\n",
    "    else:\n",
    "        alpha = berouti(SNRseg)\n",
    "\n",
    "    # 谱减\n",
    "    sub_speech = np.zeros(theta.shape)\n",
    "    ####################\n",
    "    # your code\n",
    "    ####################\n",
    "\n",
    "\n",
    "    # 当纯净信号小于噪声信号时的处理\n",
    "    diffw = sub_speech - beta * noise_mu ** Expnt\n",
    "    z = find_index(diffw)\n",
    "    if len(z) > 0:\n",
    "        sub_speech[z] = beta * noise_mu[z] ** Expnt\n",
    "    \n",
    "    # 更新噪声频谱\n",
    "    if SNRseg < Thres:  \n",
    "        noise_temp = G * noise_mu ** Expnt + (1 - G) * sig ** Expnt\n",
    "        noise_mu = noise_temp ** (1 / Expnt)\n",
    "\n",
    "    # 信号恢复\n",
    "    sub_speech[nFFT // 2 + 1:nFFT] = np.flipud(sub_speech[1:nFFT // 2])\n",
    "    x_phase = np.zeros(theta.shape)\n",
    "    ####################\n",
    "    # your code\n",
    "    ####################\n",
    "    xi = np.fft.ifft(x_phase).real\n",
    "\n",
    "    # 重叠叠加\n",
    "    xfinal[k-1:k + len2 - 1] = x_old + xi[0:len1]\n",
    "    x_old = xi[0 + len1:len_]\n",
    "    k = k + len2"
   ]
  },
  {
   "cell_type": "code",
   "execution_count": 28,
   "id": "553d6d02",
   "metadata": {},
   "outputs": [],
   "source": [
    "# 保存结果\n",
    "wf = wave.open('en_outfile.wav', 'wb')\n",
    "wf.setparams(params)\n",
    "wave_data = (winGain * xfinal).astype(np.short)\n",
    "wf.writeframes(wave_data.tostring())\n",
    "wf.close()"
   ]
  },
  {
   "cell_type": "markdown",
   "id": "25768fcd",
   "metadata": {},
   "source": [
    "## 1.3 结果展示"
   ]
  },
  {
   "cell_type": "markdown",
   "id": "989ec59c",
   "metadata": {},
   "source": [
    "现在采用方法展示音频去噪的结果\n",
    "\n",
    "展示方法采用波形图的形式"
   ]
  },
  {
   "cell_type": "code",
   "execution_count": 29,
   "id": "1c9ed6db",
   "metadata": {},
   "outputs": [
    {
     "name": "stderr",
     "output_type": "stream",
     "text": [
      "<ipython-input-29-2dc01e30ba2e>:8: DeprecationWarning: The binary mode of fromstring is deprecated, as it behaves surprisingly on unicode inputs. Use frombuffer instead\n",
      "  xin = np.fromstring(str_data, dtype=np.short)\n",
      "<ipython-input-29-2dc01e30ba2e>:17: DeprecationWarning: The binary mode of fromstring is deprecated, as it behaves surprisingly on unicode inputs. Use frombuffer instead\n",
      "  xout = np.fromstring(str_data, dtype=np.short)\n"
     ]
    }
   ],
   "source": [
    "# 输入数据\n",
    "f = wave.open(\"input_file.wav\")\n",
    "params = f.getparams()\n",
    "nchannels, sampwidth, framerate, nframes = params[:4]\n",
    "fs = framerate\n",
    "str_data = f.readframes(nframes)\n",
    "f.close()\n",
    "xin = np.fromstring(str_data, dtype=np.short)\n",
    "\n",
    "# 输出数据\n",
    "f = wave.open(\"en_outfile.wav\")\n",
    "params = f.getparams()\n",
    "nchannels, sampwidth, framerate, nframes = params[:4]\n",
    "fs = framerate\n",
    "str_data = f.readframes(nframes)\n",
    "f.close()\n",
    "xout = np.fromstring(str_data, dtype=np.short)\n",
    "\n",
    "####################\n",
    "# your code\n",
    "####################"
   ]
  }
 ],
 "metadata": {
  "kernelspec": {
   "display_name": "Python 3.8.3 ('base')",
   "language": "python",
   "name": "python3"
  },
  "language_info": {
   "codemirror_mode": {
    "name": "ipython",
    "version": 3
   },
   "file_extension": ".py",
   "mimetype": "text/x-python",
   "name": "python",
   "nbconvert_exporter": "python",
   "pygments_lexer": "ipython3",
   "version": "3.8.3"
  },
  "vscode": {
   "interpreter": {
    "hash": "a5d6c2be6262c78dadbf075e7ed7eef3fc1090c1044fdcff36d11e01ba01e819"
   }
  }
 },
 "nbformat": 4,
 "nbformat_minor": 5
}
